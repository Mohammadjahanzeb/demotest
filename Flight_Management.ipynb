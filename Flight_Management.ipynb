{
  "nbformat": 4,
  "nbformat_minor": 0,
  "metadata": {
    "colab": {
      "provenance": [],
      "gpuType": "T4",
      "authorship_tag": "ABX9TyMTUC0a1qd2WfocfeXiqfbE",
      "include_colab_link": true
    },
    "kernelspec": {
      "name": "python3",
      "display_name": "Python 3"
    },
    "language_info": {
      "name": "python"
    },
    "accelerator": "GPU"
  },
  "cells": [
    {
      "cell_type": "markdown",
      "metadata": {
        "id": "view-in-github",
        "colab_type": "text"
      },
      "source": [
        "<a href=\"https://colab.research.google.com/github/Mohammadjahanzeb/demotest/blob/main/Flight_Management.ipynb\" target=\"_parent\"><img src=\"https://colab.research.google.com/assets/colab-badge.svg\" alt=\"Open In Colab\"/></a>"
      ]
    },
    {
      "cell_type": "markdown",
      "source": [],
      "metadata": {
        "id": "dtg83wGD2hSM"
      }
    },
    {
      "cell_type": "code",
      "source": [
        "!pip install streamlit pyngrok reportlab"
      ],
      "metadata": {
        "colab": {
          "base_uri": "https://localhost:8080/"
        },
        "id": "_vtR7hyb2kIb",
        "outputId": "a36536be-95e1-40bc-9788-124f232e7b2b"
      },
      "execution_count": 6,
      "outputs": [
        {
          "output_type": "stream",
          "name": "stdout",
          "text": [
            "Requirement already satisfied: streamlit in /usr/local/lib/python3.10/dist-packages (1.39.0)\n",
            "Requirement already satisfied: pyngrok in /usr/local/lib/python3.10/dist-packages (7.2.0)\n",
            "Requirement already satisfied: reportlab in /usr/local/lib/python3.10/dist-packages (4.2.5)\n",
            "Requirement already satisfied: altair<6,>=4.0 in /usr/local/lib/python3.10/dist-packages (from streamlit) (4.2.2)\n",
            "Requirement already satisfied: blinker<2,>=1.0.0 in /usr/lib/python3/dist-packages (from streamlit) (1.4)\n",
            "Requirement already satisfied: cachetools<6,>=4.0 in /usr/local/lib/python3.10/dist-packages (from streamlit) (5.5.0)\n",
            "Requirement already satisfied: click<9,>=7.0 in /usr/local/lib/python3.10/dist-packages (from streamlit) (8.1.7)\n",
            "Requirement already satisfied: numpy<3,>=1.20 in /usr/local/lib/python3.10/dist-packages (from streamlit) (1.26.4)\n",
            "Requirement already satisfied: packaging<25,>=20 in /usr/local/lib/python3.10/dist-packages (from streamlit) (24.1)\n",
            "Requirement already satisfied: pandas<3,>=1.4.0 in /usr/local/lib/python3.10/dist-packages (from streamlit) (2.2.2)\n",
            "Requirement already satisfied: pillow<11,>=7.1.0 in /usr/local/lib/python3.10/dist-packages (from streamlit) (10.4.0)\n",
            "Requirement already satisfied: protobuf<6,>=3.20 in /usr/local/lib/python3.10/dist-packages (from streamlit) (3.20.3)\n",
            "Requirement already satisfied: pyarrow>=7.0 in /usr/local/lib/python3.10/dist-packages (from streamlit) (17.0.0)\n",
            "Requirement already satisfied: requests<3,>=2.27 in /usr/local/lib/python3.10/dist-packages (from streamlit) (2.32.3)\n",
            "Requirement already satisfied: rich<14,>=10.14.0 in /usr/local/lib/python3.10/dist-packages (from streamlit) (13.9.3)\n",
            "Requirement already satisfied: tenacity<10,>=8.1.0 in /usr/local/lib/python3.10/dist-packages (from streamlit) (9.0.0)\n",
            "Requirement already satisfied: toml<2,>=0.10.1 in /usr/local/lib/python3.10/dist-packages (from streamlit) (0.10.2)\n",
            "Requirement already satisfied: typing-extensions<5,>=4.3.0 in /usr/local/lib/python3.10/dist-packages (from streamlit) (4.12.2)\n",
            "Requirement already satisfied: gitpython!=3.1.19,<4,>=3.0.7 in /usr/local/lib/python3.10/dist-packages (from streamlit) (3.1.43)\n",
            "Requirement already satisfied: pydeck<1,>=0.8.0b4 in /usr/local/lib/python3.10/dist-packages (from streamlit) (0.9.1)\n",
            "Requirement already satisfied: tornado<7,>=6.0.3 in /usr/local/lib/python3.10/dist-packages (from streamlit) (6.3.3)\n",
            "Requirement already satisfied: watchdog<6,>=2.1.5 in /usr/local/lib/python3.10/dist-packages (from streamlit) (5.0.3)\n",
            "Requirement already satisfied: PyYAML>=5.1 in /usr/local/lib/python3.10/dist-packages (from pyngrok) (6.0.2)\n",
            "Requirement already satisfied: chardet in /usr/local/lib/python3.10/dist-packages (from reportlab) (5.2.0)\n",
            "Requirement already satisfied: entrypoints in /usr/local/lib/python3.10/dist-packages (from altair<6,>=4.0->streamlit) (0.4)\n",
            "Requirement already satisfied: jinja2 in /usr/local/lib/python3.10/dist-packages (from altair<6,>=4.0->streamlit) (3.1.4)\n",
            "Requirement already satisfied: jsonschema>=3.0 in /usr/local/lib/python3.10/dist-packages (from altair<6,>=4.0->streamlit) (4.23.0)\n",
            "Requirement already satisfied: toolz in /usr/local/lib/python3.10/dist-packages (from altair<6,>=4.0->streamlit) (0.12.1)\n",
            "Requirement already satisfied: gitdb<5,>=4.0.1 in /usr/local/lib/python3.10/dist-packages (from gitpython!=3.1.19,<4,>=3.0.7->streamlit) (4.0.11)\n",
            "Requirement already satisfied: python-dateutil>=2.8.2 in /usr/local/lib/python3.10/dist-packages (from pandas<3,>=1.4.0->streamlit) (2.8.2)\n",
            "Requirement already satisfied: pytz>=2020.1 in /usr/local/lib/python3.10/dist-packages (from pandas<3,>=1.4.0->streamlit) (2024.2)\n",
            "Requirement already satisfied: tzdata>=2022.7 in /usr/local/lib/python3.10/dist-packages (from pandas<3,>=1.4.0->streamlit) (2024.2)\n",
            "Requirement already satisfied: charset-normalizer<4,>=2 in /usr/local/lib/python3.10/dist-packages (from requests<3,>=2.27->streamlit) (3.4.0)\n",
            "Requirement already satisfied: idna<4,>=2.5 in /usr/local/lib/python3.10/dist-packages (from requests<3,>=2.27->streamlit) (3.10)\n",
            "Requirement already satisfied: urllib3<3,>=1.21.1 in /usr/local/lib/python3.10/dist-packages (from requests<3,>=2.27->streamlit) (2.2.3)\n",
            "Requirement already satisfied: certifi>=2017.4.17 in /usr/local/lib/python3.10/dist-packages (from requests<3,>=2.27->streamlit) (2024.8.30)\n",
            "Requirement already satisfied: markdown-it-py>=2.2.0 in /usr/local/lib/python3.10/dist-packages (from rich<14,>=10.14.0->streamlit) (3.0.0)\n",
            "Requirement already satisfied: pygments<3.0.0,>=2.13.0 in /usr/local/lib/python3.10/dist-packages (from rich<14,>=10.14.0->streamlit) (2.18.0)\n",
            "Requirement already satisfied: smmap<6,>=3.0.1 in /usr/local/lib/python3.10/dist-packages (from gitdb<5,>=4.0.1->gitpython!=3.1.19,<4,>=3.0.7->streamlit) (5.0.1)\n",
            "Requirement already satisfied: MarkupSafe>=2.0 in /usr/local/lib/python3.10/dist-packages (from jinja2->altair<6,>=4.0->streamlit) (3.0.2)\n",
            "Requirement already satisfied: attrs>=22.2.0 in /usr/local/lib/python3.10/dist-packages (from jsonschema>=3.0->altair<6,>=4.0->streamlit) (24.2.0)\n",
            "Requirement already satisfied: jsonschema-specifications>=2023.03.6 in /usr/local/lib/python3.10/dist-packages (from jsonschema>=3.0->altair<6,>=4.0->streamlit) (2024.10.1)\n",
            "Requirement already satisfied: referencing>=0.28.4 in /usr/local/lib/python3.10/dist-packages (from jsonschema>=3.0->altair<6,>=4.0->streamlit) (0.35.1)\n",
            "Requirement already satisfied: rpds-py>=0.7.1 in /usr/local/lib/python3.10/dist-packages (from jsonschema>=3.0->altair<6,>=4.0->streamlit) (0.20.0)\n",
            "Requirement already satisfied: mdurl~=0.1 in /usr/local/lib/python3.10/dist-packages (from markdown-it-py>=2.2.0->rich<14,>=10.14.0->streamlit) (0.1.2)\n",
            "Requirement already satisfied: six>=1.5 in /usr/local/lib/python3.10/dist-packages (from python-dateutil>=2.8.2->pandas<3,>=1.4.0->streamlit) (1.16.0)\n"
          ]
        }
      ]
    },
    {
      "cell_type": "markdown",
      "source": [
        "2. Import Required Modules\n",
        "Next, run this cell to import all necessary modules, including Streamlit."
      ],
      "metadata": {
        "id": "iS2yFvKM2nXz"
      }
    },
    {
      "cell_type": "code",
      "source": [
        "import pandas as pd\n",
        "import streamlit as st\n",
        "from datetime import datetime\n",
        "from reportlab.pdfgen import canvas\n",
        "from pyngrok import ngrok\n",
        "import re\n"
      ],
      "metadata": {
        "id": "QVrKcpQs2q5r"
      },
      "execution_count": 7,
      "outputs": []
    },
    {
      "cell_type": "markdown",
      "source": [
        "3. Define the PDF Export Function and Streamlit App\n",
        "Now, define the generate_pdf function and the app() function that contains the Streamlit UI."
      ],
      "metadata": {
        "id": "gg6d_2Rk2wrv"
      }
    },
    {
      "cell_type": "code",
      "source": [
        "from reportlab.lib.pagesizes import A4\n",
        "from reportlab.pdfgen import canvas\n",
        "\n",
        "def generate_pdf(flight_data, flight_id):\n",
        "    flight = flight_data.iloc[flight_id]\n",
        "    filename = f\"Flight_{flight_id}_Report.pdf\"\n",
        "    c = canvas.Canvas(filename, pagesize=A4)\n",
        "    width, height = A4\n",
        "    c.setFont(\"Helvetica-Bold\", 16)\n",
        "    c.drawString(50, height - 50, f\"Flight Report - Flight ID: {flight_id}\")\n",
        "    c.setFont(\"Helvetica\", 12)\n",
        "    c.drawString(50, height - 100, f\"Date of Flight Operations: {flight['Date']}\")\n",
        "    c.drawString(50, height - 120, f\"Aircraft Registration: {flight['Aircraft Registration']}\")\n",
        "    c.drawString(50, height - 140, f\"From Location: {flight['From']} - Planned Departure: {flight['Planned Departure']} / Actual: {flight['Actual Departure']}\")\n",
        "    c.drawString(50, height - 160, f\"Arrival Location: {flight['To']} - Planned Arrival: {flight['Planned Arrival']} / Actual: {flight['Actual Arrival']}\")\n",
        "    planned_duration = flight['Planned Duration']\n",
        "    actual_duration = flight['Actual Duration']\n",
        "    c.drawString(50, height - 180, f\"Planned Duration: {planned_duration}\")\n",
        "    c.drawString(50, height - 200, f\"Actual Duration: {actual_duration}\")\n",
        "    expenses = {\"Catering\": 200, \"Landing and Navigation\": 150, \"Crew Hotel\": 300, \"Ground Handling\": 400, \"Miscellaneous\": 100}\n",
        "    total_expense = sum(expenses.values())\n",
        "    c.drawString(50, height - 240, \"Expenses:\")\n",
        "    y = height - 260\n",
        "    for category, amount in expenses.items():\n",
        "        c.drawString(70, y, f\"{category}: ${amount}\")\n",
        "        y -= 20\n",
        "    c.drawString(50, y, f\"Total Expenses: ${total_expense}\")\n",
        "    c.save()\n",
        "    return filename\n",
        "\n",
        "def app():\n",
        "    st.title(\"Flight Management System\")\n",
        "\n",
        "    st.subheader(\"Add New Flight Record\")\n",
        "    date_of_operation = st.date_input(\"Date of Flight Operations\")\n",
        "    aircraft_registration = st.text_input(\"Aircraft Registration\")\n",
        "    from_location = st.text_input(\"From Location (ICAO/IATA)\")\n",
        "    if from_location and not validate_location_code(from_location):\n",
        "        st.error(\"Location code must be 3 or 4 uppercase alphabetic characters (ICAO/IATA code).\")\n",
        "    planned_departure_time = st.time_input(\"Planned Time of Departure\")\n",
        "    actual_departure_time = st.time_input(\"Actual Time of Departure\")\n",
        "    arrival_location = st.text_input(\"Arrival Location (ICAO/IATA)\")\n",
        "    if arrival_location and not validate_location_code(arrival_location):\n",
        "        st.error(\"Location code must be 3 or 4 uppercase alphabetic characters (ICAO/IATA code).\")\n",
        "    planned_arrival_time = st.time_input(\"Planned Time of Arrival\")\n",
        "    actual_arrival_time = st.time_input(\"Actual Time of Arrival\")\n",
        "\n",
        "    if st.button(\"Add Flight Record\"):\n",
        "        if is_unique_record(flight_data, date_of_operation, aircraft_registration):\n",
        "            new_record = {\n",
        "                \"Date\": date_of_operation,\n",
        "                \"Aircraft Registration\": aircraft_registration,\n",
        "                \"From\": from_location,\n",
        "                \"Planned Departure\": planned_departure_time,\n",
        "                \"Actual Departure\": actual_departure_time,\n",
        "                \"To\": arrival_location,\n",
        "                \"Planned Arrival\": planned_arrival_time,\n",
        "                \"Actual Arrival\": actual_arrival_time\n",
        "            }\n",
        "            flight_data.append(new_record, ignore_index=True)\n",
        "            save_flight_data(flight_data)\n",
        "            st.success(\"Flight record added successfully!\")\n",
        "        else:\n",
        "            st.error(\"A record with this date and registration already exists.\")\n",
        "\n",
        "    # Export PDF Button\n",
        "    for idx, row in flight_data.iterrows():\n",
        "        if st.button(f\"Export Flight ID {idx} to PDF\"):\n",
        "            pdf_file = generate_pdf(flight_data, idx)\n",
        "            with open(pdf_file, \"rb\") as pdf:\n",
        "                st.download_button(\"Download PDF\", pdf, file_name=pdf_file, mime=\"application/pdf\")\n"
      ],
      "metadata": {
        "id": "9O3VI2ik2xoY"
      },
      "execution_count": 8,
      "outputs": []
    },
    {
      "cell_type": "markdown",
      "source": [
        "4. Run Streamlit Using Ngrok\n",
        "To run Streamlit in Colab, use ngrok to create a public URL."
      ],
      "metadata": {
        "id": "aQa9aucp24_E"
      }
    },
    {
      "cell_type": "code",
      "source": [
        "import os\n",
        "os.environ[\"saudia\"] = \"2oKBKvHw7X4lVjdS4KodB9Wc16Q_8A7GQmLSJwUhqwzR8HVP\"\n"
      ],
      "metadata": {
        "id": "JvPKwhl3HApw"
      },
      "execution_count": 15,
      "outputs": []
    },
    {
      "cell_type": "code",
      "source": [
        "from pyngrok import ngrok\n",
        "\n",
        "# Start ngrok tunnel on port 8501 using HTTP protocol\n",
        "public_url = ngrok.connect(addr=\"8501\", proto=\"http\")\n",
        "print(\"Streamlit app running at:\", public_url)\n",
        "\n",
        "# Run Streamlit app\n",
        "!streamlit run app.py\n"
      ],
      "metadata": {
        "colab": {
          "base_uri": "https://localhost:8080/"
        },
        "id": "_rjpWyBxIbjg",
        "outputId": "9fd56944-e917-43e5-d105-c769880fef42"
      },
      "execution_count": 20,
      "outputs": [
        {
          "output_type": "stream",
          "name": "stdout",
          "text": [
            "Streamlit app running at: NgrokTunnel: \"https://bd66-34-90-236-129.ngrok-free.app\" -> \"http://localhost:8501\"\n",
            "Usage: streamlit run [OPTIONS] TARGET [ARGS]...\n",
            "Try 'streamlit run --help' for help.\n",
            "\n",
            "Error: Invalid value: File does not exist: app.py\n"
          ]
        }
      ]
    }
  ]
}